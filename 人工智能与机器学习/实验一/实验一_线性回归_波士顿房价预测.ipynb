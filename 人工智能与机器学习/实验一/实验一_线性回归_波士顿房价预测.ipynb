{
 "cells": [
  {
   "cell_type": "markdown",
   "id": "f8efe998",
   "metadata": {},
   "source": [
    "# 上机一：波士顿房价预测\n",
    "## 任务流程：\n",
    "### 1.简单的线性回归模型\n",
    "### 2.单特征波士顿房价预测\n",
    "### 3.多特征波士顿房价预测"
   ]
  },
  {
   "cell_type": "markdown",
   "id": "2ae2e08e",
   "metadata": {},
   "source": [
    "### 1.简单的线性回归模型\n",
    "- 导入sklearn中的线性回归模型\n",
    "- 给出一组简单的数据，进行模型训练\n",
    "- 训练完成后进行预测，查看权重项和偏置项的值"
   ]
  },
  {
   "cell_type": "code",
   "execution_count": null,
   "id": "6036140d",
   "metadata": {},
   "outputs": [],
   "source": [
    "#从sklearn库中导入所需模型\n",
    "from sklearn.linear_model import LinearRegression"
   ]
  },
  {
   "cell_type": "code",
   "execution_count": null,
   "id": "fa6fa4f9",
   "metadata": {},
   "outputs": [],
   "source": [
    "clf = LinearRegression()\n",
    "clf"
   ]
  },
  {
   "cell_type": "code",
   "execution_count": null,
   "id": "2cbee116",
   "metadata": {},
   "outputs": [],
   "source": [
    "clf.fit([[0, 0], [1, 1], [2, 2]], [0, 1, 2])  # 模型训练，可以看出，特征有两个：x1和x2，训练集的数据有三个\n",
    "clf"
   ]
  },
  {
   "cell_type": "code",
   "execution_count": null,
   "id": "79553e54",
   "metadata": {},
   "outputs": [],
   "source": [
    "pre = clf.predict([[3, 3]])   # 模型预测"
   ]
  },
  {
   "cell_type": "code",
   "execution_count": null,
   "id": "d16687e4",
   "metadata": {},
   "outputs": [],
   "source": [
    "clf.coef_#权重项"
   ]
  },
  {
   "cell_type": "code",
   "execution_count": null,
   "id": "9fcb090e",
   "metadata": {},
   "outputs": [],
   "source": [
    "clf.intercept_#偏置项"
   ]
  },
  {
   "cell_type": "code",
   "execution_count": null,
   "id": "50455402",
   "metadata": {},
   "outputs": [],
   "source": [
    "print(pre)#打印预测值"
   ]
  },
  {
   "cell_type": "markdown",
   "id": "ae4b6e58",
   "metadata": {},
   "source": [
    "### 2.单特征波士顿房价预测\n",
    "- 导入所需库\n",
    "- 提取数据库，并查看详情\n",
    "- 只取每栋住宅的房间数作为模型唯一的特征\n",
    "- 训练模型\n",
    "- 绘制拟合曲线"
   ]
  },
  {
   "cell_type": "code",
   "execution_count": null,
   "id": "d6b5cbd0",
   "metadata": {},
   "outputs": [],
   "source": [
    "from sklearn.linear_model import LinearRegression\n",
    "from sklearn.datasets import load_boston\n",
    "from sklearn.model_selection import train_test_split\n",
    "import matplotlib.pyplot as plt"
   ]
  },
  {
   "cell_type": "code",
   "execution_count": null,
   "id": "0aa8145d",
   "metadata": {},
   "outputs": [],
   "source": [
    "boston = load_boston()  # 实例化\n",
    "boston"
   ]
  },
  {
   "cell_type": "code",
   "execution_count": null,
   "id": "92eab612",
   "metadata": {},
   "outputs": [],
   "source": [
    "print(boston.DESCR)"
   ]
  },
  {
   "cell_type": "code",
   "execution_count": null,
   "id": "2e1e1c83",
   "metadata": {},
   "outputs": [],
   "source": [
    "data = boston.data\n",
    "data\n",
    "data.shape"
   ]
  },
  {
   "cell_type": "code",
   "execution_count": null,
   "id": "dad3a57a",
   "metadata": {},
   "outputs": [],
   "source": [
    "target = boston.target\n",
    "target\n",
    "target.shape"
   ]
  },
  {
   "cell_type": "code",
   "execution_count": null,
   "id": "bc8c1ed6",
   "metadata": {},
   "outputs": [],
   "source": [
    "feature_name = boston.feature_names\n",
    "feature_name\n",
    "feature_name.shape"
   ]
  },
  {
   "cell_type": "code",
   "execution_count": null,
   "id": "cb0f2b54",
   "metadata": {},
   "outputs": [],
   "source": [
    "x = boston.data[:, 5:6]\n",
    "x.shape"
   ]
  },
  {
   "cell_type": "code",
   "execution_count": null,
   "id": "ac2808f1",
   "metadata": {},
   "outputs": [],
   "source": [
    "clf = LinearRegression()    #选择模型\n",
    "print('建立的LinearRegression模型为：', '\\n', clf)"
   ]
  },
  {
   "cell_type": "code",
   "execution_count": null,
   "id": "7b7f0949",
   "metadata": {},
   "outputs": [],
   "source": [
    "clf.fit(x, boston.target)   # 模型训练"
   ]
  },
  {
   "cell_type": "code",
   "execution_count": null,
   "id": "40b6d3d4",
   "metadata": {},
   "outputs": [],
   "source": [
    "clf.coef_   # 权重项"
   ]
  },
  {
   "cell_type": "code",
   "execution_count": null,
   "id": "63096b17",
   "metadata": {},
   "outputs": [],
   "source": [
    "clf.intercept_# 偏置项"
   ]
  },
  {
   "cell_type": "code",
   "execution_count": null,
   "id": "9d1d8be6",
   "metadata": {},
   "outputs": [],
   "source": [
    "y_pre = clf.predict(x)   # 模型输出值\n",
    "y_pre\n",
    "y_pre.shape"
   ]
  },
  {
   "cell_type": "code",
   "execution_count": null,
   "id": "f6e5e6d8",
   "metadata": {},
   "outputs": [],
   "source": [
    "plt.scatter(x, boston.target)  # 样本实际分布\n",
    "plt.plot(x, y_pre, color='red')   # 绘制拟合曲线\n",
    "plt.show()"
   ]
  },
  {
   "cell_type": "markdown",
   "id": "0e69656d",
   "metadata": {},
   "source": [
    "### 3.多特征波士顿房价预测\n",
    "- 导入库\n",
    "- 加载波士顿数据\n",
    "- 将数据划分为训练集和测试集\n",
    "- 建立线性回归模型\n",
    "- 在测试集上进行预测，并进行性能度量"
   ]
  },
  {
   "cell_type": "code",
   "execution_count": null,
   "id": "73e4abfc",
   "metadata": {},
   "outputs": [],
   "source": [
    "# 加载所需函数\n",
    "from sklearn.linear_model import LinearRegression\n",
    "from sklearn.datasets import load_boston\n",
    "from sklearn.model_selection import train_test_split"
   ]
  },
  {
   "cell_type": "code",
   "execution_count": null,
   "id": "fe859dab",
   "metadata": {},
   "outputs": [],
   "source": [
    "# 加载boston数据\n",
    "boston = load_boston()\n",
    "x = boston['data']\n",
    "y = boston['target']\n",
    "names = boston['feature_names']\n",
    "# 将数据划分为训练集测试集\n",
    "x_train, x_test, y_train, y_test = train_test_split(x, y, test_size=0.2, random_state=125)\n",
    "# 建立线性回归模型\n",
    "clf = LinearRegression().fit(x_train, y_train)\n",
    "print('建立的LinearRegression模型为：', '\\n', clf)"
   ]
  },
  {
   "cell_type": "code",
   "execution_count": null,
   "id": "e71bd2fb",
   "metadata": {},
   "outputs": [],
   "source": [
    "# 预测测试集结果\n",
    "y_pred = clf.predict(x_test)\n",
    "print('预测前20个结果为：', '\\n', y_pred[:20])\n",
    "\n",
    "from sklearn.metrics import explained_variance_score, mean_absolute_error,\\\n",
    "mean_squared_error,median_absolute_error,r2_score\n",
    "print('Boston数据线性回归模型的平均绝对误差为：', \n",
    "      mean_absolute_error(y_test, y_pred))\n",
    "print('Boston数据线性回归模型的均方误差为：', \n",
    "      mean_squared_error(y_test, y_pred))\n",
    "print('Boston数据线性回归模型的中值绝对误差为：',\n",
    "      median_absolute_error(y_test, y_pred))\n",
    "print('Boston数据线性回归模型的可解释方差值为：',\n",
    "      explained_variance_score(y_test, y_pred))\n",
    "print('Boston数据线性回归模型的R方值为：', \n",
    "      r2_score(y_test, y_pred))"
   ]
  },
  {
   "cell_type": "code",
   "execution_count": null,
   "id": "7be53ee7",
   "metadata": {},
   "outputs": [],
   "source": []
  },
  {
   "cell_type": "code",
   "execution_count": null,
   "id": "a2a4de72",
   "metadata": {},
   "outputs": [],
   "source": []
  },
  {
   "cell_type": "code",
   "execution_count": null,
   "id": "dcc730a0",
   "metadata": {},
   "outputs": [],
   "source": []
  },
  {
   "cell_type": "code",
   "execution_count": null,
   "id": "8eab4afa",
   "metadata": {},
   "outputs": [],
   "source": []
  },
  {
   "cell_type": "code",
   "execution_count": null,
   "id": "06c533c5",
   "metadata": {},
   "outputs": [],
   "source": []
  },
  {
   "cell_type": "code",
   "execution_count": null,
   "id": "1abb0dee",
   "metadata": {},
   "outputs": [],
   "source": []
  }
 ],
 "metadata": {
  "kernelspec": {
   "display_name": "Python 3 (ipykernel)",
   "language": "python",
   "name": "python3"
  },
  "language_info": {
   "codemirror_mode": {
    "name": "ipython",
    "version": 3
   },
   "file_extension": ".py",
   "mimetype": "text/x-python",
   "name": "python",
   "nbconvert_exporter": "python",
   "pygments_lexer": "ipython3",
   "version": "3.9.12"
  }
 },
 "nbformat": 4,
 "nbformat_minor": 5
}
